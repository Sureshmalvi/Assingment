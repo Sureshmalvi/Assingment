{
 "cells": [
  {
   "cell_type": "code",
   "execution_count": 1,
   "metadata": {},
   "outputs": [
    {
     "name": "stdout",
     "output_type": "stream",
     "text": [
      "positive number\n"
     ]
    }
   ],
   "source": [
    "# number checking\n",
    "x=float(input(\"enter your number \"))\n",
    "if x>0:\n",
    "    print(\"positive number\")\n",
    "elif x==0:\n",
    "    print(\"number is  zero\")\n",
    "else:\n",
    "    print(\"negative number\")"
   ]
  },
  {
   "cell_type": "code",
   "execution_count": 3,
   "metadata": {},
   "outputs": [
    {
     "name": "stdout",
     "output_type": "stream",
     "text": [
      "120\n"
     ]
    }
   ],
   "source": [
    "import math\n",
    "x=int(input(\"enter your number\"))\n",
    "print(math.factorial(x))"
   ]
  },
  {
   "cell_type": "code",
   "execution_count": 7,
   "metadata": {},
   "outputs": [
    {
     "name": "stdout",
     "output_type": "stream",
     "text": [
      "value of x after swapping: 444.0\n",
      "value of y after swapping: 333.0\n"
     ]
    }
   ],
   "source": [
    "x=float(input(\"enter the  value of x: \"))\n",
    "y=float(input(\"enter the value of y:\"))\n",
    "x,y=y,x\n",
    "print(\"value of x after swapping:\",x)\n",
    "print(\"value of y after swapping:\",y)\n"
   ]
  },
  {
   "cell_type": "code",
   "execution_count": 24,
   "metadata": {},
   "outputs": [
    {
     "name": "stdout",
     "output_type": "stream",
     "text": [
      "120.0:- is even number\n"
     ]
    }
   ],
   "source": [
    "# even or odd number \n",
    "x=float(input(\"Enter the number:\"))\n",
    "if x%2==0:\n",
    "    print(f\"{x}:- is even number\")\n",
    "else:\n",
    "    print(f\"{x}:-is odd number\")"
   ]
  },
  {
   "cell_type": "code",
   "execution_count": 35,
   "metadata": {},
   "outputs": [
    {
     "name": "stdout",
     "output_type": "stream",
     "text": [
      "consonant character\n"
     ]
    }
   ],
   "source": [
    "# vowel or not \n",
    "x=input(\"Enter  Alphabet number\")\n",
    "if x== (\"a\",\"e\",\"e\",\"o\",\"u\"):\n",
    "    print(\"vowel character\")\n",
    "else:\n",
    "    print(\"consonant character\")"
   ]
  },
  {
   "cell_type": "code",
   "execution_count": 3,
   "metadata": {},
   "outputs": [
    {
     "data": {
      "text/plain": [
       "'suloharresh'"
      ]
     },
     "execution_count": 3,
     "metadata": {},
     "output_type": "execute_result"
    }
   ],
   "source": [
    "def addstring(str,word):\n",
    "    c=\n",
    "    return(c)\n",
    "x=input(\"enter the word\")\n",
    "y=input(\"enter the middle name\")\n",
    "addstring(x,y)\n",
    "\n",
    "\n"
   ]
  },
  {
   "cell_type": "code",
   "execution_count": 13,
   "metadata": {},
   "outputs": [
    {
     "name": "stdout",
     "output_type": "stream",
     "text": [
      "longest one is a: 6\n"
     ]
    }
   ],
   "source": [
    "a=[\"suresh\",\"sagar\",\"anjali\",\"mahendra bahubali\",\"srdefd\",\"sese\"]\n",
    "b=[\"arijit\",\"sonu\",\"kishor\",\"kumar sanu\",\"falguni pathak\"]\n",
    "x=len(a)\n",
    "y=len(b)\n",
    "if x>y:\n",
    "    print(\"longest one is a:\",x)\n",
    "else:\n",
    "    print(\"longest one is b\",y)"
   ]
  },
  {
   "cell_type": "code",
   "execution_count": 5,
   "metadata": {},
   "outputs": [
    {
     "name": "stdout",
     "output_type": "stream",
     "text": [
      "fibonaaci series\n",
      "0\n",
      "1\n",
      "1\n",
      "2\n",
      "3\n",
      "5\n",
      "8\n"
     ]
    }
   ],
   "source": [
    "# fibonaaci series\n",
    "term=int(input(\"enter how many terms ?\"))\n",
    "a,b=0,1\n",
    "count=0\n",
    "if term<=0:\n",
    "    print(\"write number greater then zero(0)\")\n",
    "elif term==1:\n",
    "    print(\"fibonaaci term is\",term,\":\")\n",
    "    print(a)\n",
    "else:\n",
    "    print(\"fibonaaci series\")\n",
    "    while count<term:\n",
    "        print(a)\n",
    "        c=a+b\n",
    "        a=b\n",
    "        b=c\n",
    "        count+=1\n",
    "\n",
    "\n",
    "\n",
    "    "
   ]
  },
  {
   "cell_type": "code",
   "execution_count": 13,
   "metadata": {},
   "outputs": [
    {
     "name": "stdout",
     "output_type": "stream",
     "text": [
      "sum of three number if two number is equal : 0\n"
     ]
    }
   ],
   "source": [
    "# sum of three number if two number equal then sum of two number is zero\n",
    "x=float(input(\"enter the first number\"))\n",
    "y=float(input(\"enter secound number\"))\n",
    "z=float(input(\"enter third number\"))\n",
    "if x==y or x==z or y==z:\n",
    "    z=0\n",
    "    print(\"sum of three number if two number is equal :\",z)\n",
    "else:\n",
    "    print(\"sum of  three numbe is:\" ,x+y+z)\n"
   ]
  },
  {
   "cell_type": "code",
   "execution_count": 24,
   "metadata": {},
   "outputs": [
    {
     "name": "stdout",
     "output_type": "stream",
     "text": [
      "6\n"
     ]
    }
   ],
   "source": [
    "# first n positive integer number\n",
    "n=int(input(\"enter the number\"))\n",
    "sum=0\n",
    "i=1\n",
    "for i in range(n+1):\n",
    "    sum=sum+i\n",
    "print(sum)\n"
   ]
  },
  {
   "cell_type": "code",
   "execution_count": 2,
   "metadata": {},
   "outputs": [
    {
     "name": "stdout",
     "output_type": "stream",
     "text": [
      "first number is: 32.0\n",
      "secound number is : 23.0\n",
      "sorry not supported\n"
     ]
    }
   ],
   "source": [
    "x=float(input(\"enter the number\"))\n",
    "y=float(input(\"enter the number\"))\n",
    "print(\"first number is:\", x)\n",
    "print(\"secound number is :\", y)\n",
    "if x==y:\n",
    "    print(\"True\")\n",
    "elif x+y==5 or x-y==5:\n",
    "    print(\"True\")\n",
    "else:\n",
    "    print(\"sorry not supported\")\n"
   ]
  },
  {
   "cell_type": "markdown",
   "metadata": {},
   "source": []
  },
  {
   "cell_type": "code",
   "execution_count": 1,
   "metadata": {},
   "outputs": [
    {
     "name": "stdout",
     "output_type": "stream",
     "text": [
      "22\n"
     ]
    }
   ],
   "source": [
    "# length of string\n",
    "x=\"hello and welcome guys\"\n",
    "print(len(x))"
   ]
  },
  {
   "cell_type": "code",
   "execution_count": 8,
   "metadata": {},
   "outputs": [
    {
     "name": "stdout",
     "output_type": "stream",
     "text": [
      "4\n"
     ]
    }
   ],
   "source": [
    "# count character in string \n",
    "x=\"today weather is  very rainy so today we decided to go in mount abu  and today is  today\"\n",
    "print(x.count(\"today\"))"
   ]
  },
  {
   "cell_type": "code",
   "execution_count": 37,
   "metadata": {},
   "outputs": [
    {
     "name": "stdout",
     "output_type": "stream",
     "text": [
      "youe mobile number is +91 2252525252\n"
     ]
    }
   ],
   "source": [
    "# mobile number\n",
    "x=(input(\"Enter your mobile number\"))\n",
    "if len(x)==10:\n",
    "    if x.isdigit():\n",
    "        print(\"youe mobile number is\", \"+91\",x)\n",
    "else:\n",
    "    print(\"Please Enter Valid Mobile Number\")\n"
   ]
  },
  {
   "cell_type": "code",
   "execution_count": 47,
   "metadata": {},
   "outputs": [
    {
     "data": {
      "text/plain": [
       "'xyc abz'"
      ]
     },
     "execution_count": 47,
     "metadata": {},
     "output_type": "execute_result"
    }
   ],
   "source": [
    "def char(a,b):\n",
    "    ch1=b[:2]+a[2:]\n",
    "    ch2=a[:2]+b[2:]\n",
    "    return ch1+ \" \" +ch2\n",
    "char(\"abc\",\"xyz\")"
   ]
  },
  {
   "cell_type": "code",
   "execution_count": 14,
   "metadata": {},
   "outputs": [
    {
     "name": "stdout",
     "output_type": "stream",
     "text": [
      "eating\n",
      "surfingly\n"
     ]
    }
   ],
   "source": [
    "# add ing at the end of string and ly\n",
    "def addstring(str1):\n",
    "    length=len(str1)\n",
    "    if length>2:\n",
    "        if str1[-3:] == \"ing\":\n",
    "            str1 += \"ly\"\n",
    "        else:\n",
    "            str1 += \"ing\"\n",
    "    return str1\n",
    "print(addstring(\"eat\"))\n",
    "print(addstring(\"surfing\"))\n",
    "\n",
    "\n",
    "\n"
   ]
  },
  {
   "cell_type": "code",
   "execution_count": 20,
   "metadata": {},
   "outputs": [
    {
     "name": "stdout",
     "output_type": "stream",
     "text": [
      "<reversed object at 0x000000B1BD0AE8C0>\n"
     ]
    }
   ],
   "source": [
    "#Write a Python function to reverses a string if its length is a multiple of 4.\n",
    "x=\"suresh\"\n",
    "print(x.re)"
   ]
  },
  {
   "cell_type": "code",
   "execution_count": null,
   "metadata": {},
   "outputs": [],
   "source": []
  },
  {
   "cell_type": "code",
   "execution_count": 19,
   "metadata": {},
   "outputs": [
    {
     "name": "stdout",
     "output_type": "stream",
     "text": [
      "sre\n",
      "doog\n",
      "esor\n",
      "uoy evol i\n"
     ]
    }
   ],
   "source": [
    "# reverse a string\n",
    "while True:\n",
    "\n",
    "    x=input(\"Enter words\")\n",
    "    if len(x)>=4:\n",
    "        print(x[::-1])\n",
    "    else:\n",
    "        print(x)\n",
    "    y=input(\"are you want to continue(y/n\")\n",
    "    if y!=\"y\":\n",
    "        break"
   ]
  },
  {
   "cell_type": "code",
   "execution_count": 26,
   "metadata": {},
   "outputs": [
    {
     "name": "stdout",
     "output_type": "stream",
     "text": [
      "Empty string\n"
     ]
    }
   ],
   "source": [
    "x=input(\"write whatever you want:\")\n",
    "if len(x)>2:\n",
    "    print(x[:2]+x[-2:])\n",
    "elif len(x)==2:\n",
    "    print(x[:2]+x[:2])\n",
    "else:\n",
    "    print(\"Empty string\")"
   ]
  },
  {
   "cell_type": "code",
   "execution_count": 6,
   "metadata": {},
   "outputs": [
    {
     "name": "stdout",
     "output_type": "stream",
     "text": [
      "have you good bad but you are still poor\n",
      "have you not bad but you are still good\n"
     ]
    }
   ],
   "source": [
    "# Write a Python program to find the first appearance of the substring 'not' and 'poor' from a given string,\n",
    "# if 'not' follows the 'poor', replace the whole 'not'...'poor' substring with 'good'. Return the resulting string\n",
    "a=input(\"write here\")\n",
    "print(a.replace('not','good'))\n",
    "print(a.replace('poor','good'))\n",
    "\n",
    "   "
   ]
  },
  {
   "cell_type": "code",
   "execution_count": null,
   "metadata": {},
   "outputs": [],
   "source": []
  }
 ],
 "metadata": {
  "interpreter": {
   "hash": "2d57cd7b807d2ade30841f69a62c4e8964173985745b13f95ec3583c08db8ab1"
  },
  "kernelspec": {
   "display_name": "Python 3.10.4 64-bit",
   "language": "python",
   "name": "python3"
  },
  "language_info": {
   "codemirror_mode": {
    "name": "ipython",
    "version": 3
   },
   "file_extension": ".py",
   "mimetype": "text/x-python",
   "name": "python",
   "nbconvert_exporter": "python",
   "pygments_lexer": "ipython3",
   "version": "3.10.4"
  },
  "orig_nbformat": 4,
  "vscode": {
   "interpreter": {
    "hash": "2d57cd7b807d2ade30841f69a62c4e8964173985745b13f95ec3583c08db8ab1"
   }
  }
 },
 "nbformat": 4,
 "nbformat_minor": 2
}
