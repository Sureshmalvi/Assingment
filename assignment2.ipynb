{
 "cells": [
  {
   "cell_type": "code",
   "execution_count": 4,
   "metadata": {},
   "outputs": [
    {
     "name": "stdout",
     "output_type": "stream",
     "text": [
      "[56, 26, 32, 23]\n"
     ]
    }
   ],
   "source": [
    "# reverse a list\n",
    "lt=[23,32,26,56]\n",
    "lt.reverse()\n",
    "print(lt)"
   ]
  },
  {
   "cell_type": "code",
   "execution_count": 5,
   "metadata": {},
   "outputs": [
    {
     "name": "stdout",
     "output_type": "stream",
     "text": [
      "[2, 3, 4, 5]\n"
     ]
    }
   ],
   "source": [
    "# remove last object from list\n",
    "l=[2,3,4,5,6]\n",
    "print(l[:-1])"
   ]
  },
  {
   "cell_type": "code",
   "execution_count": 12,
   "metadata": {},
   "outputs": [
    {
     "name": "stdout",
     "output_type": "stream",
     "text": [
      "[20, 21, 22, 23, 20, 30, 'dearest', 'hello']\n"
     ]
    }
   ],
   "source": [
    "l=[20,21,22,23]\n",
    "a=[20,30,\"dearest\",\"hello\"]\n",
    "l.extend(a)\n",
    "print(l)"
   ]
  },
  {
   "cell_type": "code",
   "execution_count": 16,
   "metadata": {},
   "outputs": [
    {
     "name": "stdout",
     "output_type": "stream",
     "text": [
      "12000\n",
      "120\n",
      "14738\n"
     ]
    }
   ],
   "source": [
    "# find maximum number and smallest number and sum of list\n",
    "lst=[253,2365,120,12000]\n",
    "print(max(lst))\n",
    "print(min(lst))\n",
    "print(sum(lst))"
   ]
  },
  {
   "cell_type": "code",
   "execution_count": 19,
   "metadata": {},
   "outputs": [
    {
     "name": "stdout",
     "output_type": "stream",
     "text": [
      "equal \n"
     ]
    }
   ],
   "source": [
    "# comparision of two lists\n",
    "l1=int(input(\"Enter First Number\"))\n",
    "l2=int(input(\"Enter Second Number\"))\n",
    "if l1==l2:\n",
    "    print(\"equal \")\n",
    "else:\n",
    "    print(\"not equal\")"
   ]
  },
  {
   "cell_type": "code",
   "execution_count": 8,
   "metadata": {},
   "outputs": [
    {
     "name": "stdout",
     "output_type": "stream",
     "text": [
      "[32, 65, 56, 20]\n"
     ]
    }
   ],
   "source": [
    "# Write a Python program to remove duplicates from a list\n",
    "l=[20,32,20,65,56,65,20]\n",
    "print(list(set(l)))\n"
   ]
  },
  {
   "cell_type": "code",
   "execution_count": 5,
   "metadata": {},
   "outputs": [
    {
     "name": "stdout",
     "output_type": "stream",
     "text": [
      "[202, 265]\n"
     ]
    }
   ],
   "source": [
    "# Write a Python program to check a list is empty or not.\n",
    "l=[202,265]\n",
    "if len(l)==0:\n",
    "    print(\"Empty list\")\n",
    "else:\n",
    "    print(l)"
   ]
  },
  {
   "cell_type": "code",
   "execution_count": 18,
   "metadata": {},
   "outputs": [
    {
     "name": "stdout",
     "output_type": "stream",
     "text": [
      "False\n"
     ]
    }
   ],
   "source": [
    "# Write a Python function that takes two lists and returns true if they have at least one common member.\n",
    "\n",
    "l=[22,25,14,36]\n",
    "l1=[23,26,98]\n",
    "for i in l:\n",
    "    for j in l1:\n",
    "        if i==j:\n",
    "            print(\"True\")\n",
    "else:\n",
    "    print(\"False\")\n"
   ]
  },
  {
   "cell_type": "code",
   "execution_count": 19,
   "metadata": {},
   "outputs": [
    {
     "name": "stdout",
     "output_type": "stream",
     "text": [
      "[1, 4, 9, 16, 25]\n",
      "[676, 729, 784, 841, 900]\n"
     ]
    }
   ],
   "source": [
    "# Write a Python program to generate and print a list of first\n",
    "# and last 5 elements where the values are square of numbers between 1 and 30. \n",
    "a=[]\n",
    "for i in range(1,31):\n",
    "    a.append(i**2)\n",
    "print(a[:5])\n",
    "print(a[-5:])"
   ]
  },
  {
   "cell_type": "code",
   "execution_count": 20,
   "metadata": {},
   "outputs": [
    {
     "name": "stdout",
     "output_type": "stream",
     "text": [
      "[2, 1, 6, 5, 3, 20, 36, 45, 60, 14]\n"
     ]
    }
   ],
   "source": [
    "# Write a Python function that takes a list and returns a new list with unique elements of the first list.\n",
    "l=[2,1,2,6,5,3,20,1,2,36,45,60,14]\n",
    "l1=[]\n",
    "for i in l:\n",
    "    if i not in l1:\n",
    "        l1.append(i)\n",
    "print(l1)\n",
    "\n"
   ]
  },
  {
   "cell_type": "code",
   "execution_count": 24,
   "metadata": {},
   "outputs": [
    {
     "name": "stdout",
     "output_type": "stream",
     "text": [
      "suresh\n"
     ]
    }
   ],
   "source": [
    "# Write a Python program to convert a list of characters into a string.\n",
    "a=['s','u','r','e','s','h']\n",
    "print(\"\".join(a))"
   ]
  },
  {
   "cell_type": "code",
   "execution_count": null,
   "metadata": {},
   "outputs": [],
   "source": [
    "# Write a Python program to select an item randomly from a list. \n",
    "import random\n",
    "l=[21,25,14,30]\n",
    "print(random.choice(l))"
   ]
  },
  {
   "cell_type": "code",
   "execution_count": 32,
   "metadata": {},
   "outputs": [
    {
     "name": "stdout",
     "output_type": "stream",
     "text": [
      "12\n"
     ]
    }
   ],
   "source": [
    "#  Write a Python program to find the second smallest number in a list\n",
    "l=[12,25,12,20,5]\n",
    "l.sort()\n",
    "x=l[1]\n",
    "print(x)\n"
   ]
  },
  {
   "cell_type": "code",
   "execution_count": 34,
   "metadata": {},
   "outputs": [
    {
     "name": "stdout",
     "output_type": "stream",
     "text": [
      "unique value from the list is: [4, 12, 365, 300, 25, 125]\n"
     ]
    }
   ],
   "source": [
    "# Write a Python program to get unique values from a list \n",
    "l=[25,365,25,4,125,12,25,300,125]\n",
    "print(\"unique value from the list is:\",list(set(l)))"
   ]
  },
  {
   "cell_type": "code",
   "execution_count": null,
   "metadata": {},
   "outputs": [],
   "source": [
    "#  Write a Python program to check whether a list contains a sub list \n",
    "\n",
    "a =[10, 20, 30, 40, 50, 60, 40]\n",
    "b=[10, 20, 30]\n",
    "set1=set(a)\n",
    "set2=set(b)\n",
    "print(\"b sublist of a= \",(set2.issubset(set1)))"
   ]
  },
  {
   "cell_type": "code",
   "execution_count": 1,
   "metadata": {},
   "outputs": [
    {
     "name": "stdout",
     "output_type": "stream",
     "text": [
      "suresh\n",
      "kushaL\n",
      "sagar\n"
     ]
    }
   ],
   "source": [
    "# Write a Python program to split a list into different variables.\n",
    "l=[(\"suresh\"),(\"kushaL\"),(\"sagar\")]\n",
    "v1,v2,v3 = l\n",
    "print(v1)\n",
    "print(v2)\n",
    "print(v3)\n"
   ]
  },
  {
   "cell_type": "code",
   "execution_count": null,
   "metadata": {},
   "outputs": [],
   "source": [
    "# What is tuple? Difference between list and tuple.\n",
    "# Ans-Tuples are used to store multiple items in a single variable.A tuple is a collection\n",
    "#  which is ordered and unchangeable.\n",
    "# difference between the tuples and lists is that while the tuples are immutable objects\n",
    "#  the lists are mutable. This means that tuples cannot be changed while the lists can be\n",
    "#  modified. Tuples are more memory efficient than the lists"
   ]
  },
  {
   "cell_type": "code",
   "execution_count": 2,
   "metadata": {},
   "outputs": [
    {
     "name": "stdout",
     "output_type": "stream",
     "text": [
      "('python', 35000, True)\n",
      "<class 'tuple'>\n"
     ]
    }
   ],
   "source": [
    "# Write a Python program to create a tuple with different data types.\n",
    "T=(\"python\",35000,True)\n",
    "print(T)\n",
    "print(type(T))"
   ]
  },
  {
   "cell_type": "code",
   "execution_count": 4,
   "metadata": {},
   "outputs": [
    {
     "name": "stdout",
     "output_type": "stream",
     "text": [
      "(2, 3, 6, 5, 4, 5)\n",
      "<class 'tuple'>\n"
     ]
    }
   ],
   "source": [
    "# Write a Python program to create a tuple with numbers.\n",
    "a=2,3,6,5,4,5\n",
    "print(a)\n",
    "print(type(a))"
   ]
  },
  {
   "cell_type": "code",
   "execution_count": 6,
   "metadata": {},
   "outputs": [
    {
     "name": "stdout",
     "output_type": "stream",
     "text": [
      "apple\n"
     ]
    }
   ],
   "source": [
    "# Write a Python program to convert a tuple to a string\n",
    "a=(\"a\",'p','p','l','e')\n",
    "str=''\n",
    "for item in a:\n",
    "    str= str+item\n",
    "print(str)"
   ]
  },
  {
   "cell_type": "code",
   "execution_count": 8,
   "metadata": {},
   "outputs": [
    {
     "name": "stdout",
     "output_type": "stream",
     "text": [
      "False\n",
      "True\n"
     ]
    }
   ],
   "source": [
    "# Write a Python program to check whether an element exists within a tuple.\n",
    "\n",
    "A=('g','t','e','r','p',23)\n",
    "print('a' in A)\n",
    "print(23 in A)"
   ]
  },
  {
   "cell_type": "code",
   "execution_count": 11,
   "metadata": {},
   "outputs": [
    {
     "name": "stdout",
     "output_type": "stream",
     "text": [
      "Length of A = 2\n"
     ]
    }
   ],
   "source": [
    "# Write a Python program to find the length of a tuple.\n",
    "\n",
    "A=('s','a')\n",
    "print(\"Length of A =\",len(A))"
   ]
  },
  {
   "cell_type": "code",
   "execution_count": 12,
   "metadata": {},
   "outputs": [
    {
     "name": "stdout",
     "output_type": "stream",
     "text": [
      "(23, 25, 36, 10)\n"
     ]
    }
   ],
   "source": [
    "# Write a Python program to convert a list to a tuple.\n",
    "A=[23,25,36,10]\n",
    "B=tuple(A)\n",
    "print(B)"
   ]
  },
  {
   "cell_type": "code",
   "execution_count": 16,
   "metadata": {},
   "outputs": [
    {
     "name": "stdout",
     "output_type": "stream",
     "text": [
      "(3, 4, 5, 10, 20)\n"
     ]
    }
   ],
   "source": [
    "# Write a Python program to reverse a tuple. \n",
    "a=(20,10,5,4,3)\n",
    "print(a[::-1])"
   ]
  },
  {
   "cell_type": "code",
   "execution_count": 29,
   "metadata": {},
   "outputs": [
    {
     "name": "stdout",
     "output_type": "stream",
     "text": [
      "[(23, 20, 120)]\n"
     ]
    }
   ],
   "source": [
    "#Write a Python program to replace last value of tuples in a list.\n",
    "\n",
    "a=[(23,20,100)]\n",
    "print([b[:-1] + (120,) for b in a])"
   ]
  },
  {
   "cell_type": "code",
   "execution_count": 30,
   "metadata": {},
   "outputs": [
    {
     "name": "stdout",
     "output_type": "stream",
     "text": [
      "(1, 2, 20, 23)\n"
     ]
    }
   ],
   "source": [
    "# Write a Python program to find the repeated items of a tuple\n",
    "a=(23,20,2,1,23,20)\n",
    "print(tuple(set(a)))"
   ]
  },
  {
   "cell_type": "code",
   "execution_count": 32,
   "metadata": {},
   "outputs": [
    {
     "data": {
      "text/plain": [
       "[(2, 2, 5), (20, 30), (50, 12)]"
      ]
     },
     "execution_count": 32,
     "metadata": {},
     "output_type": "execute_result"
    }
   ],
   "source": [
    "#Write a Python program to remove an empty tuple(s) from a list of tuples\n",
    "\n",
    "def Remove(A):\n",
    "    for i in A:\n",
    "        if(len(i)==0):\n",
    "            A.remove(i)\n",
    "    return A\n",
    "A = [(), (2,2,5), (), (20,30),\n",
    "        (50,12),()]\n",
    "Remove(A)\n"
   ]
  },
  {
   "cell_type": "code",
   "execution_count": 2,
   "metadata": {},
   "outputs": [
    {
     "name": "stdout",
     "output_type": "stream",
     "text": [
      "{'a': [1], 'b': [2], 'c': [3], 'd': [1], 'e': [2], 'f': [1]}\n"
     ]
    }
   ],
   "source": [
    "# Write a Python program to convert a list of tuples into a dictionary. \n",
    "\n",
    "A = [(\"a\", 1), (\"b\", 2), (\"c\", 3), (\"d\", 1), (\"e\", 2), (\"f\", 1)]\n",
    "d={}\n",
    "for x,y in A:\n",
    "    d.setdefault(x,[]).append(y)\n",
    "print(d)"
   ]
  },
  {
   "cell_type": "code",
   "execution_count": 4,
   "metadata": {},
   "outputs": [
    {
     "name": "stdout",
     "output_type": "stream",
     "text": [
      "{'key': 200, 'key2': 300}\n"
     ]
    }
   ],
   "source": [
    "# How will you create a dictionary using tuples in python?\n",
    "a=((\"key\",200),(\"key2\",300))\n",
    "b=dict(a)\n",
    "print(b)"
   ]
  },
  {
   "cell_type": "code",
   "execution_count": 1,
   "metadata": {},
   "outputs": [
    {
     "name": "stdout",
     "output_type": "stream",
     "text": [
      "[(1, 3, 5, 7), (2, 4, 6, 8)]\n"
     ]
    }
   ],
   "source": [
    "# -Write a Python program to unzip a list of tuples into individual lists. \n",
    "\n",
    "A=[(1,2),(3,4),(5,6),(7,8)]\n",
    "print(list(zip(*A)))"
   ]
  },
  {
   "cell_type": "code",
   "execution_count": 6,
   "metadata": {},
   "outputs": [
    {
     "ename": "AttributeError",
     "evalue": "'builtin_function_or_method' object has no attribute 'sort'",
     "output_type": "error",
     "traceback": [
      "\u001b[1;31m---------------------------------------------------------------------------\u001b[0m",
      "\u001b[1;31mAttributeError\u001b[0m                            Traceback (most recent call last)",
      "\u001b[1;32me:\\program\\module-2\\module_3\\assignment.ipynb Cell 31'\u001b[0m in \u001b[0;36m<cell line: 4>\u001b[1;34m()\u001b[0m\n\u001b[0;32m      <a href='vscode-notebook-cell:/e%3A/program/module-2/module_3/assignment.ipynb#ch0000030?line=1'>2</a>\u001b[0m a\u001b[39m=\u001b[39m{\u001b[39m\"\u001b[39m\u001b[39msubject\u001b[39m\u001b[39m\"\u001b[39m:\u001b[39m4\u001b[39m,\u001b[39m\"\u001b[39m\u001b[39mfees\u001b[39m\u001b[39m\"\u001b[39m:\u001b[39m5600\u001b[39m,\u001b[39m\"\u001b[39m\u001b[39mmarks\u001b[39m\u001b[39m\"\u001b[39m:\u001b[39m100\u001b[39m}\n\u001b[0;32m      <a href='vscode-notebook-cell:/e%3A/program/module-2/module_3/assignment.ipynb#ch0000030?line=2'>3</a>\u001b[0m b\u001b[39m=\u001b[39ma\u001b[39m.\u001b[39mvalues\n\u001b[1;32m----> <a href='vscode-notebook-cell:/e%3A/program/module-2/module_3/assignment.ipynb#ch0000030?line=3'>4</a>\u001b[0m c\u001b[39m=\u001b[39mb\u001b[39m.\u001b[39;49msort()\n\u001b[0;32m      <a href='vscode-notebook-cell:/e%3A/program/module-2/module_3/assignment.ipynb#ch0000030?line=4'>5</a>\u001b[0m \u001b[39mprint\u001b[39m(c)\n",
      "\u001b[1;31mAttributeError\u001b[0m: 'builtin_function_or_method' object has no attribute 'sort'"
     ]
    }
   ],
   "source": [
    "# Write a Python script to sort (ascending and descending) a dictionary by value. \n",
    "a={\"subject\":4,\"fees\":5600,\"marks\":100}"
   ]
  },
  {
   "cell_type": "code",
   "execution_count": null,
   "metadata": {},
   "outputs": [],
   "source": [
    "-Write a Python script to concatenate following dictionaries to create a new one.\n",
    "\n",
    "A={1:10,2:20}\n",
    "B={3:30,4:40}\n",
    "C={5:50,6:60}\n",
    "D={}\n",
    "for i in (A, B, C) :\n",
    "    D.update(i)\n",
    "print(D)\n"
   ]
  },
  {
   "cell_type": "code",
   "execution_count": 2,
   "metadata": {},
   "outputs": [
    {
     "name": "stdout",
     "output_type": "stream",
     "text": [
      "Key is present in the dictionary\n",
      "Key is not present in the dictionary\n"
     ]
    }
   ],
   "source": [
    "#Write a Python script to check if a given key already exists in a dictionary.\n",
    "\n",
    "def key(x):\n",
    "    A={1:10, 2:20, 3:30, 4:40, 5:50, 6:60}\n",
    "    if x in A:\n",
    "        print('Key is present in the dictionary')\n",
    "    else:\n",
    "        print('Key is not present in the dictionary')\n",
    "\n",
    "key(4)\n",
    "key(50)"
   ]
  },
  {
   "cell_type": "code",
   "execution_count": 4,
   "metadata": {},
   "outputs": [
    {
     "name": "stdout",
     "output_type": "stream",
     "text": [
      "10\n",
      "20\n",
      "30\n",
      "40\n",
      "50\n",
      "60\n"
     ]
    }
   ],
   "source": [
    "# How Do You Traverse Through A Dictionary Object In Python? \n",
    "\n",
    "A={1:10, 2:20, 3:30, 4:40, 5:50, 6:60}\n",
    "for values in A:\n",
    "    print(A[values])"
   ]
  },
  {
   "cell_type": "code",
   "execution_count": 7,
   "metadata": {},
   "outputs": [
    {
     "name": "stdout",
     "output_type": "stream",
     "text": [
      "{1: 1, 2: 4, 3: 9, 4: 16, 5: 25, 6: 36, 7: 49, 8: 64, 9: 81, 10: 100, 11: 121, 12: 144, 13: 169, 14: 196, 15: 225}\n"
     ]
    }
   ],
   "source": [
    "# Write a Python script to print a dictionary where the keys are numbers between\n",
    "#  1 and 15.\n",
    "a=dict()\n",
    "for x in range(1,16):\n",
    "    a[x]=x**2\n",
    "print(a)\n"
   ]
  },
  {
   "cell_type": "code",
   "execution_count": null,
   "metadata": {},
   "outputs": [],
   "source": []
  }
 ],
 "metadata": {
  "interpreter": {
   "hash": "2d57cd7b807d2ade30841f69a62c4e8964173985745b13f95ec3583c08db8ab1"
  },
  "kernelspec": {
   "display_name": "Python 3.10.4 64-bit",
   "language": "python",
   "name": "python3"
  },
  "language_info": {
   "codemirror_mode": {
    "name": "ipython",
    "version": 3
   },
   "file_extension": ".py",
   "mimetype": "text/x-python",
   "name": "python",
   "nbconvert_exporter": "python",
   "pygments_lexer": "ipython3",
   "version": "3.10.4"
  },
  "orig_nbformat": 4
 },
 "nbformat": 4,
 "nbformat_minor": 2
}
